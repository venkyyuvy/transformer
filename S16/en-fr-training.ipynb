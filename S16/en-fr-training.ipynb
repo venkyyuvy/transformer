{
 "cells": [
  {
   "cell_type": "code",
   "execution_count": 1,
   "metadata": {
    "execution": {
     "iopub.execute_input": "2023-10-07T10:53:00.203414Z",
     "iopub.status.busy": "2023-10-07T10:53:00.203018Z",
     "iopub.status.idle": "2023-10-07T10:53:00.217601Z",
     "shell.execute_reply": "2023-10-07T10:53:00.216651Z",
     "shell.execute_reply.started": "2023-10-07T10:53:00.203386Z"
    }
   },
   "outputs": [
    {
     "name": "stdout",
     "output_type": "stream",
     "text": [
      "Maximum length of source sentence: 45\n",
      "Maximum length of target sentence: 48\n",
      "Total Model Parameters: 45905140\n"
     ]
    }
   ],
   "source": [
    "from dataset import TranslateDataset\n",
    "from model import build_transformer\n",
    "from config import get_config\n",
    "cfg = get_config()\n",
    "\n",
    "translation_dataset = TranslateDataset(cfg)\n",
    "translation_dataset.setup()\n",
    "\n",
    "translator = build_transformer(\n",
    "    translation_dataset.tokenizer_src.get_vocab_size(),\n",
    "    translation_dataset.tokenizer_tgt.get_vocab_size(),\n",
    "    cfg[\"seq_len\"],\n",
    "    cfg[\"seq_len\"],\n",
    "    d_model=cfg[\"d_model\"],\n",
    ")"
   ]
  },
  {
   "cell_type": "code",
   "execution_count": 2,
   "metadata": {
    "execution": {
     "iopub.execute_input": "2023-10-07T10:53:11.105330Z",
     "iopub.status.busy": "2023-10-07T10:53:11.104972Z",
     "iopub.status.idle": "2023-10-07T10:53:41.520120Z",
     "shell.execute_reply": "2023-10-07T10:53:41.518638Z",
     "shell.execute_reply.started": "2023-10-07T10:53:11.105302Z"
    }
   },
   "outputs": [
    {
     "name": "stderr",
     "output_type": "stream",
     "text": [
      "Using 16bit Automatic Mixed Precision (AMP)\n",
      "/opt/homebrew/Caskroom/miniforge/base/envs/torch-gpu/lib/python3.8/site-packages/torch/cuda/amp/grad_scaler.py:120: UserWarning: torch.cuda.amp.GradScaler is enabled, but CUDA is not available.  Disabling.\n",
      "  warnings.warn(\"torch.cuda.amp.GradScaler is enabled, but CUDA is not available.  Disabling.\")\n",
      "GPU available: True (mps), used: True\n",
      "TPU available: False, using: 0 TPU cores\n",
      "IPU available: False, using: 0 IPUs\n",
      "HPU available: False, using: 0 HPUs\n"
     ]
    },
    {
     "data": {
      "application/vnd.jupyter.widget-view+json": {
       "model_id": "47a5963915534fbfb9ca9528057c0dd8",
       "version_major": 2,
       "version_minor": 0
      },
      "text/plain": [
       "Filter:   0%|          | 0/127085 [00:00<?, ? examples/s]"
      ]
     },
     "metadata": {},
     "output_type": "display_data"
    },
    {
     "name": "stderr",
     "output_type": "stream",
     "text": [
      "\n",
      "  | Name             | Type               | Params\n",
      "--------------------------------------------------------\n",
      "0 | encoder          | Encoder            | 3.9 M \n",
      "1 | decoder          | Decoder            | 7.1 M \n",
      "2 | src_embed        | InputEmbeddings    | 10.5 M\n",
      "3 | tgt_embed        | InputEmbeddings    | 12.2 M\n",
      "4 | src_pos          | PositionalEncoding | 0     \n",
      "5 | tgt_pos          | PositionalEncoding | 0     \n",
      "6 | projection_layer | ProjectionLayer    | 12.2 M\n",
      "--------------------------------------------------------\n",
      "45.9 M    Trainable params\n",
      "0         Non-trainable params\n",
      "45.9 M    Total params\n",
      "183.621   Total estimated model params size (MB)\n"
     ]
    },
    {
     "name": "stdout",
     "output_type": "stream",
     "text": [
      "Maximum length of source sentence: 45\n",
      "Maximum length of target sentence: 48\n"
     ]
    },
    {
     "name": "stderr",
     "output_type": "stream",
     "text": [
      "/opt/homebrew/Caskroom/miniforge/base/envs/torch-gpu/lib/python3.8/site-packages/pytorch_lightning/trainer/connectors/data_connector.py:432: PossibleUserWarning: The dataloader, train_dataloader, does not have many workers which may be a bottleneck. Consider increasing the value of the `num_workers` argument` (try 10 which is the number of cpus on this machine) in the `DataLoader` init to improve performance.\n",
      "  rank_zero_warn(\n",
      "/opt/homebrew/Caskroom/miniforge/base/envs/torch-gpu/lib/python3.8/site-packages/pytorch_lightning/trainer/connectors/data_connector.py:432: PossibleUserWarning: The dataloader, val_dataloader, does not have many workers which may be a bottleneck. Consider increasing the value of the `num_workers` argument` (try 10 which is the number of cpus on this machine) in the `DataLoader` init to improve performance.\n",
      "  rank_zero_warn(\n"
     ]
    },
    {
     "data": {
      "application/vnd.jupyter.widget-view+json": {
       "model_id": "dba8ba50fa94403b8d18bdf46f49e967",
       "version_major": 2,
       "version_minor": 0
      },
      "text/plain": [
       "Training: 0it [00:00, ?it/s]"
      ]
     },
     "metadata": {},
     "output_type": "display_data"
    },
    {
     "name": "stderr",
     "output_type": "stream",
     "text": [
      "/opt/homebrew/Caskroom/miniforge/base/envs/torch-gpu/lib/python3.8/site-packages/torch/amp/autocast_mode.py:223: UserWarning: User provided device_type of 'cuda', but CUDA is not available. Disabling\n",
      "  warnings.warn('User provided device_type of \\'cuda\\', but CUDA is not available. Disabling')\n"
     ]
    },
    {
     "data": {
      "application/vnd.jupyter.widget-view+json": {
       "model_id": "1733b4ea897547f8b1a79554664abfd4",
       "version_major": 2,
       "version_minor": 0
      },
      "text/plain": [
       "Validation: 0it [00:00, ?it/s]"
      ]
     },
     "metadata": {},
     "output_type": "display_data"
    },
    {
     "name": "stdout",
     "output_type": "stream",
     "text": [
      "    SOURCE: But, perhaps he could not in her mother's presence be what he was before her uncle and aunt.\n",
      "    TARGET: Peut-etre était-il moins ouvert devant sa mere que devant son oncle et sa tante.\n",
      " PREDICTED: Mais , peut - être , il ne se mit pas sa mère de sa mère et il était son oncle .\n",
      "    SOURCE: How much money have you?'\n",
      "    TARGET: Combien avez-vous d’argent ?\n",
      " PREDICTED: Comment avez - vous ?\n"
     ]
    }
   ],
   "source": [
    "from pytorch_lightning import Trainer\n",
    "\n",
    "if __name__ == '__main__':\n",
    "    trainer = Trainer(\n",
    "#         devices=2,\n",
    "#         accelerator='gpu',\n",
    "#         strategy='ddp_notebook',\n",
    "        max_epochs = cfg['num_epochs'],\n",
    "        precision= '16-mixed',\n",
    "        detect_anomaly= True,\n",
    "        num_sanity_val_steps=0,\n",
    "    )\n",
    "    trainer.fit(translator, translation_dataset)"
   ]
  },
  {
   "cell_type": "code",
   "execution_count": null,
   "metadata": {},
   "outputs": [],
   "source": []
  }
 ],
 "metadata": {
  "kernelspec": {
   "display_name": "Python 3 (ipykernel)",
   "language": "python",
   "name": "python3"
  },
  "language_info": {
   "codemirror_mode": {
    "name": "ipython",
    "version": 3
   },
   "file_extension": ".py",
   "mimetype": "text/x-python",
   "name": "python",
   "nbconvert_exporter": "python",
   "pygments_lexer": "ipython3",
   "version": "3.8.15"
  },
  "vscode": {
   "interpreter": {
    "hash": "e1cb4ba5f411cfa4a68a7ea6c2f9ba3655e2604bd37447d058a856eda531fd15"
   }
  }
 },
 "nbformat": 4,
 "nbformat_minor": 4
}
