{
 "cells": [
  {
   "cell_type": "code",
   "execution_count": null,
   "id": "790e4ca8",
   "metadata": {
    "scrolled": false
   },
   "outputs": [
    {
     "name": "stderr",
     "output_type": "stream",
     "text": [
      "GPU available: True (mps), used: True\n",
      "TPU available: False, using: 0 TPU cores\n",
      "IPU available: False, using: 0 IPUs\n",
      "HPU available: False, using: 0 HPUs\n",
      "\n",
      "  | Name                | Type                | Params\n",
      "------------------------------------------------------------\n",
      "0 | embeddings          | Embedding           | 16.4 K\n",
      "1 | position_embedding  | PositionalEmbedding | 0     \n",
      "2 | embedding_dropout   | Dropout             | 0     \n",
      "3 | transformer_encoder | Sequential          | 1.6 M \n",
      "4 | word_predictor      | Sequential          | 5.1 M \n",
      "------------------------------------------------------------\n",
      "6.7 M     Trainable params\n",
      "0         Non-trainable params\n",
      "6.7 M     Total params\n",
      "26.891    Total estimated model params size (MB)\n"
     ]
    },
    {
     "name": "stdout",
     "output_type": "stream",
     "text": [
      "tokenizing sentences...\n",
      "creating/loading vocab...\n",
      "tokenizing sentences...\n",
      "creating/loading vocab...\n",
      "tokenizing sentences...\n",
      "creating/loading vocab...\n",
      "tokenizing sentences...\n",
      "creating/loading vocab...\n"
     ]
    },
    {
     "data": {
      "application/vnd.jupyter.widget-view+json": {
       "model_id": "00589db18c984659bd5b1b5cb309b499",
       "version_major": 2,
       "version_minor": 0
      },
      "text/plain": [
       "Training: 0it [00:00, ?it/s]"
      ]
     },
     "metadata": {},
     "output_type": "display_data"
    },
    {
     "name": "stdout",
     "output_type": "stream",
     "text": [
      "tokenizing sentences...\n",
      "creating/loading vocab...\n",
      "tokenizing sentences...\n",
      "creating/loading vocab...\n",
      "tokenizing sentences...\n",
      "creating/loading vocab...\n",
      "tokenizing sentences...\n",
      "creating/loading vocab...\n"
     ]
    }
   ],
   "source": [
    "import pytorch_lightning as pl\n",
    "\n",
    "from super_transformer import SuperTransformer\n",
    "from bert_trainer import SentencesDataset, sentences, vocab, seq_len\n",
    "import torch\n",
    "\n",
    "# model\n",
    "\n",
    "\n",
    "if __name__ == '__main__':\n",
    "    dataset = SentencesDataset(sentences, vocab, seq_len)\n",
    "    kwargs = {'shuffle':True,  'drop_last':True, \n",
    "              'pin_memory':True, 'batch_size': 1024,\n",
    "              'num_workers': 4\n",
    "             }\n",
    "    data_loader = torch.utils.data.DataLoader(dataset, **kwargs)\n",
    "    index = dataset.IGNORE_IDX\n",
    "    \n",
    "    params = dict(\n",
    "        seq_len = 20,\n",
    "        embedding_dim = 128,\n",
    "        mlp_size = 128 * 4,\n",
    "        num_heads = 8,\n",
    "        num_transformer_layers = 8,\n",
    "        num_classes = 40000,\n",
    "        mlp_dropout = 0.1,\n",
    "        index= index\n",
    "    )\n",
    "    bert = SuperTransformer(model='bert', **params)\n",
    "\n",
    "    # train model\n",
    "    trainer = pl.Trainer(\n",
    "        max_steps=10_000,\n",
    "    )\n",
    "    trainer.fit(\n",
    "        model=bert,\n",
    "        train_dataloaders=data_loader,\n",
    "    )\n"
   ]
  },
  {
   "cell_type": "code",
   "execution_count": null,
   "id": "bb7152ca",
   "metadata": {},
   "outputs": [],
   "source": []
  }
 ],
 "metadata": {
  "kernelspec": {
   "display_name": "Python 3 (ipykernel)",
   "language": "python",
   "name": "python3"
  },
  "language_info": {
   "codemirror_mode": {
    "name": "ipython",
    "version": 3
   },
   "file_extension": ".py",
   "mimetype": "text/x-python",
   "name": "python",
   "nbconvert_exporter": "python",
   "pygments_lexer": "ipython3",
   "version": "3.8.15"
  }
 },
 "nbformat": 4,
 "nbformat_minor": 5
}
